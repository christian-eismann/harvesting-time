{
 "cells": [
  {
   "cell_type": "markdown",
   "metadata": {},
   "source": [
    "# <center>Predict Harvest Quantity"
   ]
  },
  {
   "cell_type": "code",
   "execution_count": 2,
   "metadata": {},
   "outputs": [],
   "source": [
    "# helper functions\n",
    "%run -i imports.py\n",
    "%run -i modelling_functions.py\n",
    "\n",
    "# load class\n",
    "from harvestingtime import district\n",
    "\n",
    "# load dataset\n",
    "with open('data/dataset.pkl', 'rb') as file:\n",
    "    ds = pickle.load(file)"
   ]
  },
  {
   "cell_type": "code",
   "execution_count": 59,
   "metadata": {},
   "outputs": [],
   "source": [
    "# set parameters\n",
    "crop = 'Silomais'    # crop\n",
    "dc = '03151'         # district code\n",
    "iterations = 10      # number of iterations for model"
   ]
  },
  {
   "cell_type": "markdown",
   "metadata": {},
   "source": [
    "## create crop specific dataset"
   ]
  },
  {
   "cell_type": "code",
   "execution_count": 69,
   "metadata": {},
   "outputs": [],
   "source": [
    "# calling to_crop() method to get weather and climate data for \n",
    "# crop specific growing period\n",
    "\n",
    "cols = ['district', 'crop', 'TT', 'SD', 'FK', 'RR', 'SMI_OB', 'SMI_GB']\n",
    "crop_df = pd.DataFrame(columns=cols)\n",
    "\n",
    "for dc in ds.keys():\n",
    "    x = pd.DataFrame(columns=cols)\n",
    "\n",
    "    for i in cols[2:]:\n",
    "        x.loc[:, i] = ds[dc].to_crop(crop)[i].mean(axis=1)\n",
    "\n",
    "    x['crop'] = ds[dc].crops.loc[:, crop].tolist()\n",
    "    x['district'] = dc\n",
    "    crop_df = pd.concat((crop_df, x))\n",
    "\n",
    "crop_df.dropna(axis=0, inplace=True)"
   ]
  },
  {
   "cell_type": "code",
   "execution_count": 70,
   "metadata": {},
   "outputs": [
    {
     "name": "stdout",
     "output_type": "stream",
     "text": [
      "(6097, 8)\n"
     ]
    },
    {
     "data": {
      "text/html": [
       "<div>\n",
       "<style scoped>\n",
       "    .dataframe tbody tr th:only-of-type {\n",
       "        vertical-align: middle;\n",
       "    }\n",
       "\n",
       "    .dataframe tbody tr th {\n",
       "        vertical-align: top;\n",
       "    }\n",
       "\n",
       "    .dataframe thead th {\n",
       "        text-align: right;\n",
       "    }\n",
       "</style>\n",
       "<table border=\"1\" class=\"dataframe\">\n",
       "  <thead>\n",
       "    <tr style=\"text-align: right;\">\n",
       "      <th></th>\n",
       "      <th>district</th>\n",
       "      <th>crop</th>\n",
       "      <th>TT</th>\n",
       "      <th>SD</th>\n",
       "      <th>FK</th>\n",
       "      <th>RR</th>\n",
       "      <th>SMI_OB</th>\n",
       "      <th>SMI_GB</th>\n",
       "    </tr>\n",
       "  </thead>\n",
       "  <tbody>\n",
       "    <tr>\n",
       "      <th>0</th>\n",
       "      <td>01001</td>\n",
       "      <td>401.6</td>\n",
       "      <td>15.053036</td>\n",
       "      <td>229.337500</td>\n",
       "      <td>2.618571</td>\n",
       "      <td>67.832143</td>\n",
       "      <td>0.467129</td>\n",
       "      <td>0.591105</td>\n",
       "    </tr>\n",
       "    <tr>\n",
       "      <th>1</th>\n",
       "      <td>01001</td>\n",
       "      <td>342.8</td>\n",
       "      <td>14.531845</td>\n",
       "      <td>200.933333</td>\n",
       "      <td>2.584917</td>\n",
       "      <td>52.479167</td>\n",
       "      <td>0.322052</td>\n",
       "      <td>0.425855</td>\n",
       "    </tr>\n",
       "    <tr>\n",
       "      <th>2</th>\n",
       "      <td>01001</td>\n",
       "      <td>401.6</td>\n",
       "      <td>15.072738</td>\n",
       "      <td>225.700000</td>\n",
       "      <td>2.420714</td>\n",
       "      <td>72.616071</td>\n",
       "      <td>0.562898</td>\n",
       "      <td>0.529012</td>\n",
       "    </tr>\n",
       "    <tr>\n",
       "      <th>3</th>\n",
       "      <td>01001</td>\n",
       "      <td>364.2</td>\n",
       "      <td>16.376786</td>\n",
       "      <td>201.983333</td>\n",
       "      <td>2.659821</td>\n",
       "      <td>108.433929</td>\n",
       "      <td>0.793085</td>\n",
       "      <td>0.875195</td>\n",
       "    </tr>\n",
       "    <tr>\n",
       "      <th>4</th>\n",
       "      <td>01001</td>\n",
       "      <td>408.4</td>\n",
       "      <td>16.379702</td>\n",
       "      <td>236.416667</td>\n",
       "      <td>2.506333</td>\n",
       "      <td>71.591071</td>\n",
       "      <td>0.550395</td>\n",
       "      <td>0.555351</td>\n",
       "    </tr>\n",
       "  </tbody>\n",
       "</table>\n",
       "</div>"
      ],
      "text/plain": [
       "  district   crop         TT          SD        FK          RR    SMI_OB  \\\n",
       "0    01001  401.6  15.053036  229.337500  2.618571   67.832143  0.467129   \n",
       "1    01001  342.8  14.531845  200.933333  2.584917   52.479167  0.322052   \n",
       "2    01001  401.6  15.072738  225.700000  2.420714   72.616071  0.562898   \n",
       "3    01001  364.2  16.376786  201.983333  2.659821  108.433929  0.793085   \n",
       "4    01001  408.4  16.379702  236.416667  2.506333   71.591071  0.550395   \n",
       "\n",
       "     SMI_GB  \n",
       "0  0.591105  \n",
       "1  0.425855  \n",
       "2  0.529012  \n",
       "3  0.875195  \n",
       "4  0.555351  "
      ]
     },
     "execution_count": 70,
     "metadata": {},
     "output_type": "execute_result"
    }
   ],
   "source": [
    "print(crop_df.shape)\n",
    "crop_df.head()"
   ]
  }
 ],
 "metadata": {
  "interpreter": {
   "hash": "d7e5a1f785ed82844e2da5d30522181462e1597dbd1807cbc4c5c0cc1d5a2e0b"
  },
  "kernelspec": {
   "display_name": "Python 3.9.7 ('base')",
   "language": "python",
   "name": "python3"
  },
  "language_info": {
   "codemirror_mode": {
    "name": "ipython",
    "version": 3
   },
   "file_extension": ".py",
   "mimetype": "text/x-python",
   "name": "python",
   "nbconvert_exporter": "python",
   "pygments_lexer": "ipython3",
   "version": "3.9.7"
  },
  "orig_nbformat": 4
 },
 "nbformat": 4,
 "nbformat_minor": 2
}
