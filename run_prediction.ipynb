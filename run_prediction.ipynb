{
 "cells": [
  {
   "cell_type": "markdown",
   "metadata": {},
   "source": [
    "# <center>Predict Harvest Quantity"
   ]
  },
  {
   "cell_type": "code",
   "execution_count": 23,
   "metadata": {},
   "outputs": [],
   "source": [
    "# helper functions\n",
    "%run -i imports.py\n",
    "%run -i modelling_functions.py\n",
    "\n",
    "# load class\n",
    "from harvestingtime import district\n",
    "\n",
    "# load dataset\n",
    "with open('data/dataset.pkl', 'rb') as file:\n",
    "    ds = pickle.load(file)"
   ]
  },
  {
   "cell_type": "code",
   "execution_count": 32,
   "metadata": {},
   "outputs": [],
   "source": [
    "# set parameters\n",
    "crop = 'Silomais'    # crop\n",
    "dc = '03151'         # district code\n",
    "iterations = 5      # number of iterations for model"
   ]
  },
  {
   "cell_type": "markdown",
   "metadata": {},
   "source": [
    "## create crop specific dataset"
   ]
  },
  {
   "cell_type": "code",
   "execution_count": 25,
   "metadata": {},
   "outputs": [],
   "source": [
    "# calling to_crop() method to get weather and climate data for \n",
    "# crop specific growing period\n",
    "\n",
    "cols = ['district', 'year', 'crop', 'TT', 'SD', 'FK', 'RR', 'SMI_OB', 'SMI_GB']\n",
    "crop_df = pd.DataFrame(columns=cols)\n",
    "\n",
    "for dc in ds.keys():\n",
    "    x = pd.DataFrame(columns=cols)\n",
    "\n",
    "    for i in cols[3:]:\n",
    "        x.loc[:, i] = ds[dc].to_crop(crop)[i].mean(axis=1)\n",
    "\n",
    "    x['district'] = dc\n",
    "    x['year'] = ds[dc].crops.index\n",
    "    x['crop'] = ds[dc].crops.loc[:, crop].tolist()\n",
    "    \n",
    "    crop_df = pd.concat((crop_df, x))\n",
    "\n",
    "crop_df.dropna(axis=0, inplace=True)"
   ]
  },
  {
   "cell_type": "code",
   "execution_count": 26,
   "metadata": {},
   "outputs": [
    {
     "name": "stdout",
     "output_type": "stream",
     "text": [
      "(6097, 9)\n"
     ]
    },
    {
     "data": {
      "text/html": [
       "<div>\n",
       "<style scoped>\n",
       "    .dataframe tbody tr th:only-of-type {\n",
       "        vertical-align: middle;\n",
       "    }\n",
       "\n",
       "    .dataframe tbody tr th {\n",
       "        vertical-align: top;\n",
       "    }\n",
       "\n",
       "    .dataframe thead th {\n",
       "        text-align: right;\n",
       "    }\n",
       "</style>\n",
       "<table border=\"1\" class=\"dataframe\">\n",
       "  <thead>\n",
       "    <tr style=\"text-align: right;\">\n",
       "      <th></th>\n",
       "      <th>district</th>\n",
       "      <th>year</th>\n",
       "      <th>crop</th>\n",
       "      <th>TT</th>\n",
       "      <th>SD</th>\n",
       "      <th>FK</th>\n",
       "      <th>RR</th>\n",
       "      <th>SMI_OB</th>\n",
       "      <th>SMI_GB</th>\n",
       "    </tr>\n",
       "  </thead>\n",
       "  <tbody>\n",
       "    <tr>\n",
       "      <th>0</th>\n",
       "      <td>01001</td>\n",
       "      <td>1999</td>\n",
       "      <td>401.6</td>\n",
       "      <td>15.053036</td>\n",
       "      <td>229.337500</td>\n",
       "      <td>2.618571</td>\n",
       "      <td>67.832143</td>\n",
       "      <td>0.467129</td>\n",
       "      <td>0.591105</td>\n",
       "    </tr>\n",
       "    <tr>\n",
       "      <th>1</th>\n",
       "      <td>01001</td>\n",
       "      <td>2000</td>\n",
       "      <td>342.8</td>\n",
       "      <td>14.531845</td>\n",
       "      <td>200.933333</td>\n",
       "      <td>2.584917</td>\n",
       "      <td>52.479167</td>\n",
       "      <td>0.322052</td>\n",
       "      <td>0.425855</td>\n",
       "    </tr>\n",
       "    <tr>\n",
       "      <th>2</th>\n",
       "      <td>01001</td>\n",
       "      <td>2001</td>\n",
       "      <td>401.6</td>\n",
       "      <td>15.072738</td>\n",
       "      <td>225.700000</td>\n",
       "      <td>2.420714</td>\n",
       "      <td>72.616071</td>\n",
       "      <td>0.562898</td>\n",
       "      <td>0.529012</td>\n",
       "    </tr>\n",
       "    <tr>\n",
       "      <th>3</th>\n",
       "      <td>01001</td>\n",
       "      <td>2002</td>\n",
       "      <td>364.2</td>\n",
       "      <td>16.376786</td>\n",
       "      <td>201.983333</td>\n",
       "      <td>2.659821</td>\n",
       "      <td>108.433929</td>\n",
       "      <td>0.793085</td>\n",
       "      <td>0.875195</td>\n",
       "    </tr>\n",
       "    <tr>\n",
       "      <th>4</th>\n",
       "      <td>01001</td>\n",
       "      <td>2003</td>\n",
       "      <td>408.4</td>\n",
       "      <td>16.379702</td>\n",
       "      <td>236.416667</td>\n",
       "      <td>2.506333</td>\n",
       "      <td>71.591071</td>\n",
       "      <td>0.550395</td>\n",
       "      <td>0.555351</td>\n",
       "    </tr>\n",
       "  </tbody>\n",
       "</table>\n",
       "</div>"
      ],
      "text/plain": [
       "  district  year   crop         TT          SD        FK          RR  \\\n",
       "0    01001  1999  401.6  15.053036  229.337500  2.618571   67.832143   \n",
       "1    01001  2000  342.8  14.531845  200.933333  2.584917   52.479167   \n",
       "2    01001  2001  401.6  15.072738  225.700000  2.420714   72.616071   \n",
       "3    01001  2002  364.2  16.376786  201.983333  2.659821  108.433929   \n",
       "4    01001  2003  408.4  16.379702  236.416667  2.506333   71.591071   \n",
       "\n",
       "     SMI_OB    SMI_GB  \n",
       "0  0.467129  0.591105  \n",
       "1  0.322052  0.425855  \n",
       "2  0.562898  0.529012  \n",
       "3  0.793085  0.875195  \n",
       "4  0.550395  0.555351  "
      ]
     },
     "execution_count": 26,
     "metadata": {},
     "output_type": "execute_result"
    }
   ],
   "source": [
    "print(crop_df.shape)\n",
    "crop_df.head()"
   ]
  },
  {
   "cell_type": "markdown",
   "metadata": {},
   "source": [
    "## prepare data for model"
   ]
  },
  {
   "cell_type": "code",
   "execution_count": 6,
   "metadata": {},
   "outputs": [],
   "source": [
    "polyfeat = PolynomialFeatures(degree=2)\n",
    "scaler   = StandardScaler()\n",
    "onehot   = OneHotEncoder(sparse=False)\n",
    "\n",
    "X, y = crop_df[['TT', 'SD', 'RR', 'SMI_OB', 'SMI_GB']].copy(), crop_df['crop'].copy() # omitting wind ('FK')\n",
    "\n",
    "# polynomial features\n",
    "X_poly_ = polyfeat.fit(X)\n",
    "X_poly  = X_poly_.transform(X)\n",
    "\n",
    "# feature scaling\n",
    "X_scal_ = scaler.fit(X_poly)\n",
    "X_scal  = X_scal_.transform(X_poly)\n",
    "\n",
    "# one hot encoding districts\n",
    "dcode = crop_df['district'].to_numpy().reshape(-1, 1)\n",
    "ohe_ = onehot.fit(dcode)\n",
    "ohe  = onehot.transform(dcode)\n",
    "\n",
    "# scaled dataset with oh-encoded \n",
    "X_full = np.concatenate((X_scal, ohe), axis=1)\n",
    "\n",
    "# boxcox transformation of target\n",
    "y_bxcx, bxcxlmbd = boxcox(y)"
   ]
  },
  {
   "cell_type": "code",
   "execution_count": 7,
   "metadata": {},
   "outputs": [
    {
     "name": "stdout",
     "output_type": "stream",
     "text": [
      "[[0, '1'], [1, 'TT'], [2, 'SD'], [3, 'RR'], [4, 'SMI_OB'], [5, 'SMI_GB'], [6, 'TT^2'], [7, 'TT SD'], [8, 'TT RR'], [9, 'TT SMI_OB'], [10, 'TT SMI_GB'], [11, 'SD^2'], [12, 'SD RR'], [13, 'SD SMI_OB'], [14, 'SD SMI_GB'], [15, 'RR^2'], [16, 'RR SMI_OB'], [17, 'RR SMI_GB'], [18, 'SMI_OB^2'], [19, 'SMI_OB SMI_GB'], [20, 'SMI_GB^2']]\n"
     ]
    }
   ],
   "source": [
    "# check columns of polynomial features of precipitation\n",
    "polyfeat_labels_ = X_poly_.get_feature_names_out().tolist()\n",
    "\n",
    "polyfeat_labels = []\n",
    "for i, label in enumerate(polyfeat_labels_):\n",
    "    polyfeat_labels.append([i, label])\n",
    "\n",
    "print(polyfeat_labels)"
   ]
  },
  {
   "cell_type": "code",
   "execution_count": 8,
   "metadata": {},
   "outputs": [],
   "source": [
    "# get means and standard deviations for all features with precipitation\n",
    "# needed for manipulation later\n",
    "x2_mn, x2_sd     = np.mean(X_poly[:,  3]), np.std(X_poly[:,  3])\n",
    "x22_mn, x22_sd   = np.mean(X_poly[:, 15]), np.std(X_poly[:, 15])\n",
    "x0x2_mn, x0x2_sd = np.mean(X_poly[:,  8]), np.std(X_poly[:,  8])\n",
    "x1x2_mn, x1x2_sd = np.mean(X_poly[:, 12]), np.std(X_poly[:, 12])\n",
    "x2x3_mn, x2x3_sd = np.mean(X_poly[:, 16]), np.std(X_poly[:, 16])\n",
    "x2x4_mn, x2x4_sd = np.mean(X_poly[:, 17]), np.std(X_poly[:, 17])"
   ]
  },
  {
   "cell_type": "markdown",
   "metadata": {},
   "source": [
    "## modelling the increase of harvest quantity depending on precipitation"
   ]
  },
  {
   "cell_type": "code",
   "execution_count": 37,
   "metadata": {},
   "outputs": [
    {
     "name": "stdout",
     "output_type": "stream",
     "text": [
      "iteration: 4/5\r"
     ]
    }
   ],
   "source": [
    "# maximum of precipitation\n",
    "max_precip = 600\n",
    "\n",
    "min_val_it = np.zeros((max_precip, iterations))\n",
    "max_val_it = np.zeros((max_precip, iterations))\n",
    "mean_val_it = np.zeros((max_precip, iterations))\n",
    "\n",
    "for iteration in np.arange(0, iterations):\n",
    "    print(f'iteration: {iteration+1}/{iterations}', end='\\r')\n",
    "    \n",
    "    #bagging model\n",
    "    bagg_reg = BaggingRegressor(n_estimators=100, n_jobs=-1).fit(X_full, y_bxcx)\n",
    "    y_bagg = bagg_reg.predict(X_full)\n",
    "\n",
    "    #inverse boxcox\n",
    "    y_pred = inv_boxcox(y_bagg, bxcxlmbd)\n",
    "\n",
    "    #difference between true and predicted values\n",
    "    y_diff = [a-b for a,b in zip(y, y_pred)]\n",
    "\n",
    "    #function of difference of predicted versus true values\n",
    "    pf_coef = poly.polyfit(y_pred, y_diff, deg=2)\n",
    "\n",
    "    #computing corrected predicted values\n",
    "    y_corr = [(pf_coef[0]+pf_coef[1]*x+pf_coef[2]*x**2) for x in y_pred]\n",
    "    y_corr = y_corr+y_pred\n",
    "\n",
    "    idx_dstrct = crop_df[crop_df['district']==dc].index.tolist()\n",
    "\n",
    "    X_dstrct = X_full[idx_dstrct]\n",
    "\n",
    "    #district position in ohe\n",
    "    dc_pos = np.where(ohe_.get_feature_names_out()==str('x0_'+ dc))[0][0]\n",
    "    dc_len = len(ohe_.get_feature_names_out())\n",
    "\n",
    "    district_poly = X_poly[idx_dstrct]\n",
    "    district_scal = X_scal[idx_dstrct]\n",
    "\n",
    "    district_fict = []\n",
    "\n",
    "    #create empty ndarray\n",
    "    oh = np.zeros(dc_len)\n",
    "\n",
    "    #1 for one hot encoded district\n",
    "    oh[dc_pos] = 1\n",
    "\n",
    "    for year in np.arange(0, len(district_poly)):\n",
    "        #empty array\n",
    "        fict_data = np.ndarray((max_precip, (dc_len+21)))\n",
    "\n",
    "        #create fictional data set\n",
    "        for newrr in np.arange(0, max_precip):\n",
    "            fict = compute_fict(district_poly[year], district_scal[year], newrr)\n",
    "            fict = np.append(fict, oh)\n",
    "\n",
    "            fict_data[newrr] = fict\n",
    "\n",
    "        district_fict = district_fict + [fict_data]\n",
    "\n",
    "    n_years = len(district_fict)\n",
    "\n",
    "    dx_    = crop_df[['year', 'RR', 'crop']][crop_df['district']==dc]\n",
    "    values = np.zeros((max_precip, n_years))\n",
    "\n",
    "    for j in np.arange(0, n_years):\n",
    "        #predicting values\n",
    "        t = bagg_reg.predict(district_fict[j])\n",
    "        #inverted boxcox of predicted values\n",
    "        t = [inv_boxcox(x, bxcxlmbd) for x in t]\n",
    "        #correct the values using relationship of real versus predicted values of general model\n",
    "        t_corr = [(pf_coef[0]+pf_coef[1]*x+pf_coef[2]*x**2) for x in t]\n",
    "        t_corr = [t_corr + t for t_corr,t in zip(t_corr, t)]\n",
    "        #write values per year to array\n",
    "        values[:,j] = t_corr\n",
    "\n",
    "    min_val  = [np.percentile(values[x,:], q=10) for x in np.arange(0, values.shape[0])]\n",
    "    max_val  = [np.percentile(values[x,:], q=90) for x in np.arange(0, values.shape[0])]\n",
    "    mean_val = [np.percentile(values[x,:], q=50) for x in np.arange(0, values.shape[0])]\n",
    "\n",
    "    min_val_it[:, iteration] = min_val\n",
    "    max_val_it[:, iteration] = max_val\n",
    "    mean_val_it[:, iteration] = mean_val\n",
    "\n",
    "min_val_ = [np.mean(min_val_it[x]) for x in np.arange(0, max_precip)]\n",
    "max_val_ = [np.mean(max_val_it[x]) for x in np.arange(0, max_precip)]\n",
    "mean_val_ = [np.mean(mean_val_it[x]) for x in np.arange(0, max_precip)]"
   ]
  },
  {
   "cell_type": "markdown",
   "metadata": {},
   "source": [
    "## plot results"
   ]
  },
  {
   "cell_type": "code",
   "execution_count": 42,
   "metadata": {},
   "outputs": [
    {
     "data": {
      "image/png": "[encoded data removed]",
      "text/plain": [
       "<Figure size 1152x720 with 1 Axes>"
      ]
     },
     "metadata": {
      "needs_background": "light"
     },
     "output_type": "display_data"
    }
   ],
   "source": [
    "fig, ax = plt.subplots(figsize=(16,10))\n",
    "\n",
    "ax.axvspan(crop_df['RR'].min(), crop_df['RR'].max(), color='aliceblue', zorder=0, label='reale Niederschläge')\n",
    "ax.set_xlabel('Niederschlags-/ Bewässerungsmenge (mm)')\n",
    "ax.set_ylabel('Geschätzter Ertrag (dt/ha)')\n",
    "#ax.set_title(str('Geschätzter Ertrag an ' + crop + ' nach Niederschlagsmenge für den Landkreis ' + dc))\n",
    "ax.set_title(str('Geschätzter Ertrag an ' + crop + ' nach Niederschlags-/ Bewässerungsmenge'))\n",
    "sns.lineplot(x=np.arange(0, max_precip), y=min_val_, color='red', linewidth=3, ax=ax, label='10% Perzentil')\n",
    "sns.lineplot(x=np.arange(0, max_precip), y=mean_val_, color='green', linewidth=3, ax=ax, label='50% Perzentil')\n",
    "sns.lineplot(x=np.arange(0, max_precip), y=max_val_, color='orange', linewidth=3, ax=ax, label='90% Perzentil')\n",
    "#sns.scatterplot(x=dx_['RR'], y=dx_['Ertrag'], ax=ax, label='reale Erträge')\n",
    "\n",
    "y0, y1 = ax.get_ylim()\n",
    "\n",
    "#ax.vlines(x=dx_['RR'].mean(), ymin=(y0*1.05), ymax=(y1*0.95), linewidth=1, label='durchschnittlicher Niederschlag')\n",
    "#ax.vlines(x=dx_['RR'].mean()+irrigation, ymin=(y0*1.05), ymax=(y1*0.95), linewidth=1, linestyle='--', \n",
    "#          label='durchschnittlicher Bewässerungsbedarf\\nnach Cropwat')\n",
    "\n",
    "#plt.savefig(str('results/' + crop + ' in ' + dc + '.jpg'), dpi=300)\n",
    "#plt.savefig(str('results/' + crop + ' Beispiel.jpg'), dpi=600, bbox_inches='tight')\n",
    "plt.show()"
   ]
  }
 ],
 "metadata": {
  "interpreter": {
   "hash": "d7e5a1f785ed82844e2da5d30522181462e1597dbd1807cbc4c5c0cc1d5a2e0b"
  },
  "kernelspec": {
   "display_name": "Python 3.9.7 ('base')",
   "language": "python",
   "name": "python3"
  },
  "language_info": {
   "codemirror_mode": {
    "name": "ipython",
    "version": 3
   },
   "file_extension": ".py",
   "mimetype": "text/x-python",
   "name": "python",
   "nbconvert_exporter": "python",
   "pygments_lexer": "ipython3",
   "version": "3.9.7"
  },
  "orig_nbformat": 4
 },
 "nbformat": 4,
 "nbformat_minor": 2
}
