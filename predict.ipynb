{
 "cells": [
  {
   "cell_type": "markdown",
   "id": "d747655a",
   "metadata": {},
   "source": [
    "# prediction of the increase in crop yield due to precipitation\n",
    "\n",
    "This notebook calculates the crop yield for a certain German district based on crop-, weather-, climate- and soil data between 1999 and 2020."
   ]
  },
  {
   "cell_type": "code",
   "execution_count": 1,
   "id": "f754eb21",
   "metadata": {},
   "outputs": [],
   "source": [
    "import pandas as pd\n",
    "import numpy as np\n",
    "import matplotlib.pyplot as plt\n",
    "import seaborn as sns\n",
    "import pickle\n",
    "import numpy.polynomial.polynomial as poly\n",
    "\n",
    "from sklearn.preprocessing import PolynomialFeatures, StandardScaler, OneHotEncoder\n",
    "from sklearn.ensemble import BaggingRegressor\n",
    "from scipy.stats import boxcox\n",
    "from scipy.special import inv_boxcox\n",
    "from modelling_functions import compute_fict"
   ]
  },
  {
   "cell_type": "code",
   "execution_count": 2,
   "id": "ecb7fc22",
   "metadata": {},
   "outputs": [],
   "source": [
    "# for preprocessing and ensemble model\n",
    "polyfeat = PolynomialFeatures(degree=2)\n",
    "scaler   = StandardScaler()\n",
    "onehot   = OneHotEncoder(sparse=False)"
   ]
  },
  {
   "cell_type": "markdown",
   "id": "41203f55",
   "metadata": {},
   "source": [
    "## define crop and region, prepare data set"
   ]
  },
  {
   "cell_type": "code",
   "execution_count": 3,
   "id": "08b59602",
   "metadata": {},
   "outputs": [],
   "source": [
    "crop = 'Zuckerrüben' # crop\n",
    "dc = '03151'         # district code"
   ]
  },
  {
   "cell_type": "code",
   "execution_count": 4,
   "id": "74db02df",
   "metadata": {},
   "outputs": [],
   "source": [
    "# open specified crop data sets\n",
    "with open('data/crop_sets.pkl', 'rb') as file:\n",
    "    crop_sets = pickle.load(file)\n",
    "\n",
    "dx = crop_sets[crop].copy()"
   ]
  },
  {
   "cell_type": "code",
   "execution_count": 5,
   "id": "79c89d60",
   "metadata": {},
   "outputs": [],
   "source": [
    "#district codes\n",
    "dcode = dx['d.code'].to_numpy().reshape(-1,1)\n",
    "\n",
    "# one hot encoded district codes\n",
    "ohe_ = onehot.fit(dcode)\n",
    "ohe  = onehot.transform(dcode)"
   ]
  },
  {
   "cell_type": "code",
   "execution_count": 6,
   "id": "8f86df61",
   "metadata": {},
   "outputs": [],
   "source": [
    "df_X, y = dx[['TT', 'SD', 'RR', 'SMI_OB', 'SMI_GB']].copy(), dx['Ertrag'].copy()\n",
    "\n",
    "X_poly_ = polyfeat.fit(df_X)\n",
    "X_poly  = X_poly_.transform(df_X)\n",
    "\n",
    "X_scal_ = scaler.fit(X_poly)\n",
    "X_scal  = X_scal_.transform(X_poly)\n",
    "\n",
    "#append one hot encoded districts\n",
    "X_full = np.concatenate((X_scal, ohe), axis=1)\n",
    "\n",
    "#boxcox transformation of target\n",
    "y_bxcx, bxcxlmbd = boxcox(y)\n",
    "\n",
    "x2_mn, x2_sd     = np.mean(X_poly[:,  3]), np.std(X_poly[:,  3])\n",
    "x22_mn, x22_sd   = np.mean(X_poly[:, 15]), np.std(X_poly[:, 15])\n",
    "x0x2_mn, x0x2_sd = np.mean(X_poly[:,  8]), np.std(X_poly[:,  8])\n",
    "x1x2_mn, x1x2_sd = np.mean(X_poly[:, 12]), np.std(X_poly[:, 12])\n",
    "x2x3_mn, x2x3_sd = np.mean(X_poly[:, 16]), np.std(X_poly[:, 16])\n",
    "x2x4_mn, x2x4_sd = np.mean(X_poly[:, 17]), np.std(X_poly[:, 17])\n",
    "\n",
    "X_mean = [x2_mn, x22_mn, x0x2_mn, x1x2_mn, x2x3_mn, x2x4_mn]\n",
    "X_sd   = [x2_sd, x22_sd, x0x2_sd, x1x2_sd, x2x3_sd, x2x4_sd]"
   ]
  },
  {
   "cell_type": "markdown",
   "id": "cd31b1fe",
   "metadata": {},
   "source": [
    "## bagging regressor on crop yield"
   ]
  },
  {
   "cell_type": "code",
   "execution_count": null,
   "id": "30afb068",
   "metadata": {},
   "outputs": [],
   "source": [
    "# number of iterations\n",
    "iterations = 10\n",
    "# maximum of precipitation for predictions\n",
    "max_precip = 550\n",
    "\n",
    "min_val_it = np.zeros((max_precip, iterations))\n",
    "max_val_it = np.zeros((max_precip, iterations))\n",
    "mean_val_it = np.zeros((max_precip, iterations))\n",
    "\n",
    "for iteration in np.arange(0, iterations):\n",
    "    \n",
    "    print(f'iteration: {iteration+1}/{iterations}')\n",
    "    \n",
    "    #bagging model\n",
    "    bagg_reg = BaggingRegressor(n_estimators=100, n_jobs=-1).fit(X_full, y_bxcx)\n",
    "    y_bagg = bagg_reg.predict(X_full)\n",
    "\n",
    "    #inverse boxcox\n",
    "    y_pred = inv_boxcox(y_bagg, bxcxlmbd)\n",
    "\n",
    "    #difference between true and predicted values\n",
    "    y_diff = [a-b for a,b in zip(y, y_pred)]\n",
    "\n",
    "    #function of difference of predicted versus true values\n",
    "    pf_coef = poly.polyfit(y_pred, y_diff, deg=2)\n",
    "\n",
    "    #computing corrected predicted values\n",
    "    y_corr = [(pf_coef[0]+pf_coef[1]*x+pf_coef[2]*x**2) for x in y_pred]\n",
    "    y_corr = y_corr+y_pred\n",
    "\n",
    "    idx_dstrct = dx[dx['d.code']==dc].index.tolist()\n",
    "\n",
    "    X_dstrct = X_full[idx_dstrct]\n",
    "\n",
    "    #district position in ohe\n",
    "    dc_pos = np.where(ohe_.get_feature_names_out()==str('x0_'+ dc))[0][0]\n",
    "    dc_len = len(ohe_.get_feature_names_out())\n",
    "\n",
    "    district_poly = X_poly[idx_dstrct]\n",
    "    district_scal = X_scal[idx_dstrct]\n",
    "\n",
    "    district_fict = []\n",
    "\n",
    "    #create empty ndarray\n",
    "    oh = np.zeros(dc_len)\n",
    "\n",
    "    #1 for one hot encoded district\n",
    "    oh[dc_pos] = 1\n",
    "\n",
    "    for year in np.arange(0, len(district_poly)):\n",
    "        #empty array\n",
    "        fict_data = np.ndarray((max_precip, (dc_len+21)))\n",
    "\n",
    "        #create fictional data set\n",
    "        for newrr in np.arange(0, max_precip):\n",
    "            fict = compute_fict(X_poly=district_poly[year], X_scal=district_scal[year], X_mean=X_mean, X_sd=X_sd, newRR=newrr)\n",
    "            fict = np.append(fict, oh)\n",
    "\n",
    "            fict_data[newrr] = fict\n",
    "\n",
    "        district_fict = district_fict + [fict_data]\n",
    "\n",
    "    n_years = len(district_fict)\n",
    "\n",
    "    dx_    = dx[['year', 'RR', 'Ertrag']][dx['d.code']==dc]\n",
    "    values = np.zeros((max_precip, n_years))\n",
    "\n",
    "    for j in np.arange(0, n_years):\n",
    "        #predicting values\n",
    "        t = bagg_reg.predict(district_fict[j])\n",
    "        #inverted boxcox of predicted values\n",
    "        t = [inv_boxcox(x, bxcxlmbd) for x in t]\n",
    "        #correct the values using relationship of real versus predicted values of general model\n",
    "        t_corr = [(pf_coef[0]+pf_coef[1]*x+pf_coef[2]*x**2) for x in t]\n",
    "        t_corr = [t_corr + t for t_corr,t in zip(t_corr, t)]\n",
    "        #write values per year to array\n",
    "        values[:,j] = t_corr\n",
    "\n",
    "    min_val  = [np.percentile(values[x,:], q=10) for x in np.arange(0, values.shape[0])]\n",
    "    max_val  = [np.percentile(values[x,:], q=90) for x in np.arange(0, values.shape[0])]\n",
    "    mean_val = [np.percentile(values[x,:], q=50) for x in np.arange(0, values.shape[0])]\n",
    "    \n",
    "    min_val_it[:, iteration] = min_val\n",
    "    max_val_it[:, iteration] = max_val\n",
    "    mean_val_it[:, iteration] = mean_val\n",
    "\n",
    "min_val_ = [np.mean(min_val_it[x]) for x in np.arange(0, max_precip)]\n",
    "max_val_ = [np.mean(max_val_it[x]) for x in np.arange(0, max_precip)]\n",
    "mean_val_ = [np.mean(mean_val_it[x]) for x in np.arange(0, max_precip)]"
   ]
  },
  {
   "cell_type": "markdown",
   "id": "252eb2ba",
   "metadata": {},
   "source": [
    "## results\n",
    "\n",
    "looking up lower and upper percentiles\n"
   ]
  },
  {
   "cell_type": "code",
   "execution_count": null,
   "id": "671d9e28",
   "metadata": {},
   "outputs": [],
   "source": [
    "# bad years q=10\n",
    "lst = []\n",
    "\n",
    "for i in range(int(dx_['RR'].min()), int(dx_['RR'].max())):\n",
    "    lst.append(np.where(values[i,:]<np.percentile(values[i,:], q=10))[0].tolist())\n",
    "\n",
    "lst = [item for sublist in lst for item in sublist]\n",
    "years_bad = pd.Series(lst).value_counts()\n",
    "years_bad.index[:2].tolist()\n",
    "dx['year'][dx['d.code']==dc].iloc[years_bad.index[:3].tolist()]"
   ]
  },
  {
   "cell_type": "code",
   "execution_count": null,
   "id": "2cf97978",
   "metadata": {},
   "outputs": [],
   "source": [
    "# good years q=90\n",
    "lst = []\n",
    "\n",
    "for i in range(int(dx_['RR'].min()), int(dx_['RR'].max())):\n",
    "    lst.append(np.where(values[i,:]>np.percentile(values[i,:], q=90))[0].tolist())\n",
    "\n",
    "lst = [item for sublist in lst for item in sublist]\n",
    "years_good = pd.Series(lst).value_counts()\n",
    "years_good.index[:2].tolist()\n",
    "dx['year'][dx['d.code']==dc].iloc[years_good.index[:3].tolist()]"
   ]
  },
  {
   "cell_type": "code",
   "execution_count": null,
   "id": "3ed1ec27",
   "metadata": {},
   "outputs": [],
   "source": [
    "fig, ax = plt.subplots(figsize=(16,10))\n",
    "\n",
    "ax.axvspan(dx_['RR'].min(), dx_['RR'].max(), color='aliceblue', zorder=0, label='range of real precipitation')\n",
    "ax.set_xlabel('precipitation (mm)')\n",
    "ax.set_ylabel('predicted crop yield (dt/ha)')\n",
    "ax.set_title(f'predicted crop yield of {crop} for a given precipitation')\n",
    "sns.lineplot(x=np.arange(0, max_precip), y=min_val_[0:max_precip], color='red', linewidth=3, ax=ax, label='10% Percentile')\n",
    "sns.lineplot(x=np.arange(0, max_precip), y=mean_val_[0:max_precip], color='green', linewidth=3, ax=ax, label='50% Percentile')\n",
    "sns.lineplot(x=np.arange(0, max_precip), y=max_val_[0:max_precip], color='orange', linewidth=3, ax=ax, label='90% Percentile')\n",
    "sns.scatterplot(x=dx_['RR'], y=dx_['Ertrag'], ax=ax, label='real crop yield')\n",
    "\n",
    "ax.vlines(x=dx_['RR'].mean(), ymin=(y0*1.05), ymax=(y1*0.95), linewidth=1, label='mean precipitation')\n",
    "\n",
    "y0, y1 = ax.get_ylim()\n",
    "\n",
    "#plt.savefig(f'results/{crop} in {dc}.jpg', dpi=300)\n",
    "plt.show()"
   ]
  }
 ],
 "metadata": {
  "kernelspec": {
   "display_name": "Python 3 (ipykernel)",
   "language": "python",
   "name": "python3"
  },
  "language_info": {
   "codemirror_mode": {
    "name": "ipython",
    "version": 3
   },
   "file_extension": ".py",
   "mimetype": "text/x-python",
   "name": "python",
   "nbconvert_exporter": "python",
   "pygments_lexer": "ipython3",
   "version": "3.9.7"
  }
 },
 "nbformat": 4,
 "nbformat_minor": 5
}
